{
  "nbformat": 4,
  "nbformat_minor": 0,
  "metadata": {
    "colab": {
      "provenance": [],
      "authorship_tag": "ABX9TyN200lZRusfdG1SPGXIrsc6",
      "include_colab_link": true
    },
    "kernelspec": {
      "name": "python3",
      "display_name": "Python 3"
    },
    "language_info": {
      "name": "python"
    }
  },
  "cells": [
    {
      "cell_type": "markdown",
      "metadata": {
        "id": "view-in-github",
        "colab_type": "text"
      },
      "source": [
        "<a href=\"https://colab.research.google.com/github/clarkmaio/linkedin_posts/blob/main/demo_essentials.ipynb\" target=\"_parent\"><img src=\"https://colab.research.google.com/assets/colab-badge.svg\" alt=\"Open In Colab\"/></a>"
      ]
    },
    {
      "cell_type": "code",
      "source": [
        "pip install git+https://github.com/clarkmaio/clarkpy_essentials.git --quiet --force-reinstall"
      ],
      "metadata": {
        "colab": {
          "base_uri": "https://localhost:8080/"
        },
        "id": "iXpyFxKASsNe",
        "outputId": "5bbb8bbd-32d0-4c4f-d2e6-7e82d00510c1"
      },
      "execution_count": 1,
      "outputs": [
        {
          "output_type": "stream",
          "name": "stdout",
          "text": [
            "  Installing build dependencies ... \u001b[?25l\u001b[?25hdone\n",
            "  Getting requirements to build wheel ... \u001b[?25l\u001b[?25hdone\n",
            "  Preparing metadata (pyproject.toml) ... \u001b[?25l\u001b[?25hdone\n",
            "  Building wheel for clarkpy-essentials (pyproject.toml) ... \u001b[?25l\u001b[?25hdone\n"
          ]
        }
      ]
    },
    {
      "cell_type": "code",
      "source": [
        "from clarkpy_essentials import Node, Pipeline, DataCatalog, Context\n",
        "import clarkpy_essentials.decorator as deco\n",
        "\n",
        "import pandas as pd\n",
        "import polars as pl\n",
        "import numpy as np\n",
        "import os\n",
        "import yaml\n"
      ],
      "metadata": {
        "id": "HQ7aWw3sSt_T"
      },
      "execution_count": 2,
      "outputs": []
    },
    {
      "cell_type": "code",
      "source": [
        "# Create dummy dataset\n",
        "pd.DataFrame(np.random.randn(10, 5)).to_csv('data/csv_test.csv')\n",
        "pd.DataFrame(np.random.randn(10, 5)).to_excel('data/excel_test.xlsx')\n",
        "pd.DataFrame(np.random.randn(10, 5)).to_parquet('data/parquet_test.parquet')\n",
        "yaml.dump({'a': 1, 'b': 2}, open('data/yaml_test.yaml', 'w'))"
      ],
      "metadata": {
        "id": "nDCpAqhd5IOk"
      },
      "execution_count": 3,
      "outputs": []
    },
    {
      "cell_type": "markdown",
      "source": [],
      "metadata": {
        "id": "0lGBpjukS-rC"
      }
    },
    {
      "cell_type": "markdown",
      "source": [
        "# **Demo decorators**"
      ],
      "metadata": {
        "id": "48yFPVWtTD0U"
      }
    },
    {
      "cell_type": "code",
      "source": [
        "@deco.force_kwargs\n",
        "def func1(x, y):\n",
        "  return x + y"
      ],
      "metadata": {
        "id": "8ilVlOzgTFqF"
      },
      "execution_count": 4,
      "outputs": []
    },
    {
      "cell_type": "code",
      "source": [
        "# The function raise error if input are not passed trhough key\n",
        "try:\n",
        "  func1(1, y=2)\n",
        "except Exception as e:\n",
        "  print('Error:', e)"
      ],
      "metadata": {
        "colab": {
          "base_uri": "https://localhost:8080/"
        },
        "id": "r0bi8pAHTiuL",
        "outputId": "34c3b1cc-7f1f-42d3-8ff5-b40b00892bf1"
      },
      "execution_count": 5,
      "outputs": [
        {
          "output_type": "stream",
          "name": "stdout",
          "text": [
            "Error: Arguments must be passed as keyword arguments.\n"
          ]
        }
      ]
    },
    {
      "cell_type": "code",
      "source": [
        "func1(x=1, y=2)"
      ],
      "metadata": {
        "colab": {
          "base_uri": "https://localhost:8080/"
        },
        "id": "2v675voXTnMw",
        "outputId": "5523a2fd-0761-4c36-b081-274c114da018"
      },
      "execution_count": 6,
      "outputs": [
        {
          "output_type": "execute_result",
          "data": {
            "text/plain": [
              "3"
            ]
          },
          "metadata": {},
          "execution_count": 6
        }
      ]
    },
    {
      "cell_type": "markdown",
      "source": [
        "# **Demo DataCatalog**\n",
        "Access to your dataset simply defining the relative or aboslute path of your dataset and the type of import you want to apply (pandas.csv, pandas.excel, yaml, polars.csv, polars.parquet, ...)\n",
        "\n",
        "Once the DataCatalog is initialized load the dataset using the corresponding key defined in the `catalog.yml`.\n",
        "\n",
        "***This class is nothing but a big if/else to wasily deal with different data type.***"
      ],
      "metadata": {
        "id": "VIsUaEUjUmlU"
      }
    },
    {
      "cell_type": "code",
      "source": [
        "CATALOG_PATH = os.path.join(os.getcwd(), 'catalog.yml')\n",
        "catalog = DataCatalog(catalog=CATALOG_PATH, source_path=os.getcwd())"
      ],
      "metadata": {
        "id": "PD_Xk8ItUor1"
      },
      "execution_count": 7,
      "outputs": []
    },
    {
      "cell_type": "markdown",
      "source": [
        "## Explore data mapped in `catalog.yml`"
      ],
      "metadata": {
        "id": "evAUSvHmXMsZ"
      }
    },
    {
      "cell_type": "code",
      "source": [
        "excel_data = catalog('excel_test')\n",
        "print(type(excel_data))\n",
        "excel_data.head(2)"
      ],
      "metadata": {
        "colab": {
          "base_uri": "https://localhost:8080/",
          "height": 129
        },
        "id": "1QUl7wBSWyjj",
        "outputId": "ddfbd2a7-2d87-4d19-e1dd-39206c3d9703"
      },
      "execution_count": 8,
      "outputs": [
        {
          "output_type": "stream",
          "name": "stdout",
          "text": [
            "<class 'pandas.core.frame.DataFrame'>\n"
          ]
        },
        {
          "output_type": "execute_result",
          "data": {
            "text/plain": [
              "   Unnamed: 0         0         1         2         3         4\n",
              "0           0  0.591221  0.919757 -0.991286 -0.249461  1.722701\n",
              "1           1  0.360208  0.855848  0.721331  0.402465 -0.777587"
            ],
            "text/html": [
              "\n",
              "  <div id=\"df-877895e3-012d-40b6-bebc-5c274dc3597a\" class=\"colab-df-container\">\n",
              "    <div>\n",
              "<style scoped>\n",
              "    .dataframe tbody tr th:only-of-type {\n",
              "        vertical-align: middle;\n",
              "    }\n",
              "\n",
              "    .dataframe tbody tr th {\n",
              "        vertical-align: top;\n",
              "    }\n",
              "\n",
              "    .dataframe thead th {\n",
              "        text-align: right;\n",
              "    }\n",
              "</style>\n",
              "<table border=\"1\" class=\"dataframe\">\n",
              "  <thead>\n",
              "    <tr style=\"text-align: right;\">\n",
              "      <th></th>\n",
              "      <th>Unnamed: 0</th>\n",
              "      <th>0</th>\n",
              "      <th>1</th>\n",
              "      <th>2</th>\n",
              "      <th>3</th>\n",
              "      <th>4</th>\n",
              "    </tr>\n",
              "  </thead>\n",
              "  <tbody>\n",
              "    <tr>\n",
              "      <th>0</th>\n",
              "      <td>0</td>\n",
              "      <td>0.591221</td>\n",
              "      <td>0.919757</td>\n",
              "      <td>-0.991286</td>\n",
              "      <td>-0.249461</td>\n",
              "      <td>1.722701</td>\n",
              "    </tr>\n",
              "    <tr>\n",
              "      <th>1</th>\n",
              "      <td>1</td>\n",
              "      <td>0.360208</td>\n",
              "      <td>0.855848</td>\n",
              "      <td>0.721331</td>\n",
              "      <td>0.402465</td>\n",
              "      <td>-0.777587</td>\n",
              "    </tr>\n",
              "  </tbody>\n",
              "</table>\n",
              "</div>\n",
              "    <div class=\"colab-df-buttons\">\n",
              "\n",
              "  <div class=\"colab-df-container\">\n",
              "    <button class=\"colab-df-convert\" onclick=\"convertToInteractive('df-877895e3-012d-40b6-bebc-5c274dc3597a')\"\n",
              "            title=\"Convert this dataframe to an interactive table.\"\n",
              "            style=\"display:none;\">\n",
              "\n",
              "  <svg xmlns=\"http://www.w3.org/2000/svg\" height=\"24px\" viewBox=\"0 -960 960 960\">\n",
              "    <path d=\"M120-120v-720h720v720H120Zm60-500h600v-160H180v160Zm220 220h160v-160H400v160Zm0 220h160v-160H400v160ZM180-400h160v-160H180v160Zm440 0h160v-160H620v160ZM180-180h160v-160H180v160Zm440 0h160v-160H620v160Z\"/>\n",
              "  </svg>\n",
              "    </button>\n",
              "\n",
              "  <style>\n",
              "    .colab-df-container {\n",
              "      display:flex;\n",
              "      gap: 12px;\n",
              "    }\n",
              "\n",
              "    .colab-df-convert {\n",
              "      background-color: #E8F0FE;\n",
              "      border: none;\n",
              "      border-radius: 50%;\n",
              "      cursor: pointer;\n",
              "      display: none;\n",
              "      fill: #1967D2;\n",
              "      height: 32px;\n",
              "      padding: 0 0 0 0;\n",
              "      width: 32px;\n",
              "    }\n",
              "\n",
              "    .colab-df-convert:hover {\n",
              "      background-color: #E2EBFA;\n",
              "      box-shadow: 0px 1px 2px rgba(60, 64, 67, 0.3), 0px 1px 3px 1px rgba(60, 64, 67, 0.15);\n",
              "      fill: #174EA6;\n",
              "    }\n",
              "\n",
              "    .colab-df-buttons div {\n",
              "      margin-bottom: 4px;\n",
              "    }\n",
              "\n",
              "    [theme=dark] .colab-df-convert {\n",
              "      background-color: #3B4455;\n",
              "      fill: #D2E3FC;\n",
              "    }\n",
              "\n",
              "    [theme=dark] .colab-df-convert:hover {\n",
              "      background-color: #434B5C;\n",
              "      box-shadow: 0px 1px 3px 1px rgba(0, 0, 0, 0.15);\n",
              "      filter: drop-shadow(0px 1px 2px rgba(0, 0, 0, 0.3));\n",
              "      fill: #FFFFFF;\n",
              "    }\n",
              "  </style>\n",
              "\n",
              "    <script>\n",
              "      const buttonEl =\n",
              "        document.querySelector('#df-877895e3-012d-40b6-bebc-5c274dc3597a button.colab-df-convert');\n",
              "      buttonEl.style.display =\n",
              "        google.colab.kernel.accessAllowed ? 'block' : 'none';\n",
              "\n",
              "      async function convertToInteractive(key) {\n",
              "        const element = document.querySelector('#df-877895e3-012d-40b6-bebc-5c274dc3597a');\n",
              "        const dataTable =\n",
              "          await google.colab.kernel.invokeFunction('convertToInteractive',\n",
              "                                                    [key], {});\n",
              "        if (!dataTable) return;\n",
              "\n",
              "        const docLinkHtml = 'Like what you see? Visit the ' +\n",
              "          '<a target=\"_blank\" href=https://colab.research.google.com/notebooks/data_table.ipynb>data table notebook</a>'\n",
              "          + ' to learn more about interactive tables.';\n",
              "        element.innerHTML = '';\n",
              "        dataTable['output_type'] = 'display_data';\n",
              "        await google.colab.output.renderOutput(dataTable, element);\n",
              "        const docLink = document.createElement('div');\n",
              "        docLink.innerHTML = docLinkHtml;\n",
              "        element.appendChild(docLink);\n",
              "      }\n",
              "    </script>\n",
              "  </div>\n",
              "\n",
              "\n",
              "<div id=\"df-e8bb68d3-5bbe-43e4-9b9b-d1f6e9ccb830\">\n",
              "  <button class=\"colab-df-quickchart\" onclick=\"quickchart('df-e8bb68d3-5bbe-43e4-9b9b-d1f6e9ccb830')\"\n",
              "            title=\"Suggest charts\"\n",
              "            style=\"display:none;\">\n",
              "\n",
              "<svg xmlns=\"http://www.w3.org/2000/svg\" height=\"24px\"viewBox=\"0 0 24 24\"\n",
              "     width=\"24px\">\n",
              "    <g>\n",
              "        <path d=\"M19 3H5c-1.1 0-2 .9-2 2v14c0 1.1.9 2 2 2h14c1.1 0 2-.9 2-2V5c0-1.1-.9-2-2-2zM9 17H7v-7h2v7zm4 0h-2V7h2v10zm4 0h-2v-4h2v4z\"/>\n",
              "    </g>\n",
              "</svg>\n",
              "  </button>\n",
              "\n",
              "<style>\n",
              "  .colab-df-quickchart {\n",
              "      --bg-color: #E8F0FE;\n",
              "      --fill-color: #1967D2;\n",
              "      --hover-bg-color: #E2EBFA;\n",
              "      --hover-fill-color: #174EA6;\n",
              "      --disabled-fill-color: #AAA;\n",
              "      --disabled-bg-color: #DDD;\n",
              "  }\n",
              "\n",
              "  [theme=dark] .colab-df-quickchart {\n",
              "      --bg-color: #3B4455;\n",
              "      --fill-color: #D2E3FC;\n",
              "      --hover-bg-color: #434B5C;\n",
              "      --hover-fill-color: #FFFFFF;\n",
              "      --disabled-bg-color: #3B4455;\n",
              "      --disabled-fill-color: #666;\n",
              "  }\n",
              "\n",
              "  .colab-df-quickchart {\n",
              "    background-color: var(--bg-color);\n",
              "    border: none;\n",
              "    border-radius: 50%;\n",
              "    cursor: pointer;\n",
              "    display: none;\n",
              "    fill: var(--fill-color);\n",
              "    height: 32px;\n",
              "    padding: 0;\n",
              "    width: 32px;\n",
              "  }\n",
              "\n",
              "  .colab-df-quickchart:hover {\n",
              "    background-color: var(--hover-bg-color);\n",
              "    box-shadow: 0 1px 2px rgba(60, 64, 67, 0.3), 0 1px 3px 1px rgba(60, 64, 67, 0.15);\n",
              "    fill: var(--button-hover-fill-color);\n",
              "  }\n",
              "\n",
              "  .colab-df-quickchart-complete:disabled,\n",
              "  .colab-df-quickchart-complete:disabled:hover {\n",
              "    background-color: var(--disabled-bg-color);\n",
              "    fill: var(--disabled-fill-color);\n",
              "    box-shadow: none;\n",
              "  }\n",
              "\n",
              "  .colab-df-spinner {\n",
              "    border: 2px solid var(--fill-color);\n",
              "    border-color: transparent;\n",
              "    border-bottom-color: var(--fill-color);\n",
              "    animation:\n",
              "      spin 1s steps(1) infinite;\n",
              "  }\n",
              "\n",
              "  @keyframes spin {\n",
              "    0% {\n",
              "      border-color: transparent;\n",
              "      border-bottom-color: var(--fill-color);\n",
              "      border-left-color: var(--fill-color);\n",
              "    }\n",
              "    20% {\n",
              "      border-color: transparent;\n",
              "      border-left-color: var(--fill-color);\n",
              "      border-top-color: var(--fill-color);\n",
              "    }\n",
              "    30% {\n",
              "      border-color: transparent;\n",
              "      border-left-color: var(--fill-color);\n",
              "      border-top-color: var(--fill-color);\n",
              "      border-right-color: var(--fill-color);\n",
              "    }\n",
              "    40% {\n",
              "      border-color: transparent;\n",
              "      border-right-color: var(--fill-color);\n",
              "      border-top-color: var(--fill-color);\n",
              "    }\n",
              "    60% {\n",
              "      border-color: transparent;\n",
              "      border-right-color: var(--fill-color);\n",
              "    }\n",
              "    80% {\n",
              "      border-color: transparent;\n",
              "      border-right-color: var(--fill-color);\n",
              "      border-bottom-color: var(--fill-color);\n",
              "    }\n",
              "    90% {\n",
              "      border-color: transparent;\n",
              "      border-bottom-color: var(--fill-color);\n",
              "    }\n",
              "  }\n",
              "</style>\n",
              "\n",
              "  <script>\n",
              "    async function quickchart(key) {\n",
              "      const quickchartButtonEl =\n",
              "        document.querySelector('#' + key + ' button');\n",
              "      quickchartButtonEl.disabled = true;  // To prevent multiple clicks.\n",
              "      quickchartButtonEl.classList.add('colab-df-spinner');\n",
              "      try {\n",
              "        const charts = await google.colab.kernel.invokeFunction(\n",
              "            'suggestCharts', [key], {});\n",
              "      } catch (error) {\n",
              "        console.error('Error during call to suggestCharts:', error);\n",
              "      }\n",
              "      quickchartButtonEl.classList.remove('colab-df-spinner');\n",
              "      quickchartButtonEl.classList.add('colab-df-quickchart-complete');\n",
              "    }\n",
              "    (() => {\n",
              "      let quickchartButtonEl =\n",
              "        document.querySelector('#df-e8bb68d3-5bbe-43e4-9b9b-d1f6e9ccb830 button');\n",
              "      quickchartButtonEl.style.display =\n",
              "        google.colab.kernel.accessAllowed ? 'block' : 'none';\n",
              "    })();\n",
              "  </script>\n",
              "</div>\n",
              "\n",
              "    </div>\n",
              "  </div>\n"
            ],
            "application/vnd.google.colaboratory.intrinsic+json": {
              "type": "dataframe",
              "variable_name": "excel_data",
              "summary": "{\n  \"name\": \"excel_data\",\n  \"rows\": 10,\n  \"fields\": [\n    {\n      \"column\": \"Unnamed: 0\",\n      \"properties\": {\n        \"dtype\": \"number\",\n        \"std\": 3,\n        \"min\": 0,\n        \"max\": 9,\n        \"num_unique_values\": 10,\n        \"samples\": [\n          8,\n          1,\n          5\n        ],\n        \"semantic_type\": \"\",\n        \"description\": \"\"\n      }\n    },\n    {\n      \"column\": 0,\n      \"properties\": {\n        \"dtype\": \"number\",\n        \"std\": 0.8210006601211803,\n        \"min\": -1.140037929781913,\n        \"max\": 1.141343088695081,\n        \"num_unique_values\": 10,\n        \"samples\": [\n          0.631731792684658,\n          0.3602078184958359,\n          -1.039522220155035\n        ],\n        \"semantic_type\": \"\",\n        \"description\": \"\"\n      }\n    },\n    {\n      \"column\": 1,\n      \"properties\": {\n        \"dtype\": \"number\",\n        \"std\": 1.10007139225962,\n        \"min\": -1.883637109178611,\n        \"max\": 2.003903320950196,\n        \"num_unique_values\": 10,\n        \"samples\": [\n          0.2216110386403355,\n          0.8558482234243288,\n          0.1155234326481515\n        ],\n        \"semantic_type\": \"\",\n        \"description\": \"\"\n      }\n    },\n    {\n      \"column\": 2,\n      \"properties\": {\n        \"dtype\": \"number\",\n        \"std\": 1.0161710443700829,\n        \"min\": -2.283246907794988,\n        \"max\": 0.862595246597397,\n        \"num_unique_values\": 10,\n        \"samples\": [\n          -0.2550534048002147,\n          0.7213310706817896,\n          0.862595246597397\n        ],\n        \"semantic_type\": \"\",\n        \"description\": \"\"\n      }\n    },\n    {\n      \"column\": 3,\n      \"properties\": {\n        \"dtype\": \"number\",\n        \"std\": 0.8486634938918816,\n        \"min\": -1.667191192631293,\n        \"max\": 1.091533026498376,\n        \"num_unique_values\": 10,\n        \"samples\": [\n          0.7094369509976782,\n          0.4024651366221795,\n          -1.667191192631293\n        ],\n        \"semantic_type\": \"\",\n        \"description\": \"\"\n      }\n    },\n    {\n      \"column\": 4,\n      \"properties\": {\n        \"dtype\": \"number\",\n        \"std\": 1.0641675195661013,\n        \"min\": -1.430137207956305,\n        \"max\": 1.722701288297397,\n        \"num_unique_values\": 10,\n        \"samples\": [\n          0.223880496949346,\n          -0.7775874418781127,\n          0.5939520097145684\n        ],\n        \"semantic_type\": \"\",\n        \"description\": \"\"\n      }\n    }\n  ]\n}"
            }
          },
          "metadata": {},
          "execution_count": 8
        }
      ]
    },
    {
      "cell_type": "code",
      "source": [
        "yaml_data = catalog('yaml_test')\n",
        "print(type(yaml_data))\n",
        "yaml_data"
      ],
      "metadata": {
        "colab": {
          "base_uri": "https://localhost:8080/"
        },
        "id": "7UxJ5BjAW8cN",
        "outputId": "2cbfcf34-6487-4e7b-db28-c3052da1284e"
      },
      "execution_count": 9,
      "outputs": [
        {
          "output_type": "stream",
          "name": "stdout",
          "text": [
            "<class 'dict'>\n"
          ]
        },
        {
          "output_type": "execute_result",
          "data": {
            "text/plain": [
              "{'a': 1, 'b': 2}"
            ]
          },
          "metadata": {},
          "execution_count": 9
        }
      ]
    },
    {
      "cell_type": "code",
      "source": [
        "parquet_data_polars = catalog('parquet_test_polars')\n",
        "print(type(parquet_data_polars))\n",
        "parquet_data_polars.head(2)"
      ],
      "metadata": {
        "colab": {
          "base_uri": "https://localhost:8080/",
          "height": 178
        },
        "id": "gg8yTc2_XB9j",
        "outputId": "c34ee1a1-b584-4c2d-f3fe-393b46c7270d"
      },
      "execution_count": 10,
      "outputs": [
        {
          "output_type": "stream",
          "name": "stdout",
          "text": [
            "<class 'polars.dataframe.frame.DataFrame'>\n"
          ]
        },
        {
          "output_type": "execute_result",
          "data": {
            "text/plain": [
              "shape: (2, 5)\n",
              "┌───────────┬───────────┬───────────┬──────────┬───────────┐\n",
              "│ 0         ┆ 1         ┆ 2         ┆ 3        ┆ 4         │\n",
              "│ ---       ┆ ---       ┆ ---       ┆ ---      ┆ ---       │\n",
              "│ f64       ┆ f64       ┆ f64       ┆ f64      ┆ f64       │\n",
              "╞═══════════╪═══════════╪═══════════╪══════════╪═══════════╡\n",
              "│ 0.778878  ┆ -0.612608 ┆ -1.23481  ┆ 0.571337 ┆ 0.312162  │\n",
              "│ -0.026435 ┆ 0.709216  ┆ -0.460779 ┆ 1.387805 ┆ -0.781104 │\n",
              "└───────────┴───────────┴───────────┴──────────┴───────────┘"
            ],
            "text/html": [
              "<div><style>\n",
              ".dataframe > thead > tr,\n",
              ".dataframe > tbody > tr {\n",
              "  text-align: right;\n",
              "  white-space: pre-wrap;\n",
              "}\n",
              "</style>\n",
              "<small>shape: (2, 5)</small><table border=\"1\" class=\"dataframe\"><thead><tr><th>0</th><th>1</th><th>2</th><th>3</th><th>4</th></tr><tr><td>f64</td><td>f64</td><td>f64</td><td>f64</td><td>f64</td></tr></thead><tbody><tr><td>0.778878</td><td>-0.612608</td><td>-1.23481</td><td>0.571337</td><td>0.312162</td></tr><tr><td>-0.026435</td><td>0.709216</td><td>-0.460779</td><td>1.387805</td><td>-0.781104</td></tr></tbody></table></div>"
            ]
          },
          "metadata": {},
          "execution_count": 10
        }
      ]
    },
    {
      "cell_type": "markdown",
      "source": [
        "# **Demo Context**\n",
        "`Context` is just a class to collect variables you want to expose to your functions.\n",
        "\n",
        "The class simply transform kwargs in properties.\n",
        "The only constraint is about kwarg `catalog` that must be `DataCatalog` instance to be properly handled by Pipeline"
      ],
      "metadata": {
        "id": "d1CnDqByU1sJ"
      }
    },
    {
      "cell_type": "code",
      "source": [
        "GLOBAL_VARIABLES = {'var1': 1, 'var2': 100}\n",
        "DATA_CATALOG = DataCatalog(catalog=CATALOG_PATH, source_path=os.getcwd())\n",
        "context = Context(global_variables=GLOBAL_VARIABLES, catalog=DATA_CATALOG)"
      ],
      "metadata": {
        "id": "ZnhI_4HsVYuR"
      },
      "execution_count": 19,
      "outputs": []
    },
    {
      "cell_type": "code",
      "source": [
        "context.global_variables"
      ],
      "metadata": {
        "colab": {
          "base_uri": "https://localhost:8080/"
        },
        "id": "9E-OiYFeVhgo",
        "outputId": "b317cd9b-b92a-4222-aca1-b96f981d33ab"
      },
      "execution_count": 20,
      "outputs": [
        {
          "output_type": "execute_result",
          "data": {
            "text/plain": [
              "{'var1': 1, 'var2': 100}"
            ]
          },
          "metadata": {},
          "execution_count": 20
        }
      ]
    },
    {
      "cell_type": "code",
      "source": [
        "context.catalog('yaml_test')"
      ],
      "metadata": {
        "colab": {
          "base_uri": "https://localhost:8080/"
        },
        "id": "KPszWv7fVjPs",
        "outputId": "189cadbd-e127-4ce1-bd38-a6f8e280c32e"
      },
      "execution_count": 21,
      "outputs": [
        {
          "output_type": "execute_result",
          "data": {
            "text/plain": [
              "{'a': 1, 'b': 2}"
            ]
          },
          "metadata": {},
          "execution_count": 21
        }
      ]
    },
    {
      "cell_type": "markdown",
      "source": [
        "# **Demo Pipeline**\n",
        "You can organize your workflow using Pipeline and Node classes like Kedro.\n",
        "Exploit `Context` and `DataCatalog` to easily access to global variables and dataset"
      ],
      "metadata": {
        "id": "kAOCu1qb6z3K"
      }
    },
    {
      "cell_type": "code",
      "source": [
        "# Node functions\n",
        "def f1(x: float, y: float) -> float:\n",
        "  return x*y\n",
        "\n",
        "\n",
        "def f2(df: pd.DataFrame, z: float) -> pd.DataFrame:\n",
        "  new_df = (df*z).T\n",
        "  return new_df"
      ],
      "metadata": {
        "id": "HWLk-H4R7iel"
      },
      "execution_count": 11,
      "outputs": []
    },
    {
      "cell_type": "code",
      "source": [
        "# ------------ Create Context --------------\n",
        "GLOBAL_VARIABLES = {'var1': 1, 'var2': 100}\n",
        "DATA_CATALOG = DataCatalog(catalog=CATALOG_PATH, source_path=os.getcwd())\n",
        "context = Context(global_variables=GLOBAL_VARIABLES, catalog=DATA_CATALOG)\n",
        "\n",
        "# ------------ Initialize Piepline ---------\n",
        "pipeline = Pipeline([\n",
        "    Node(func=f1,\n",
        "         inputs=['context.global_variables.var1', 'context.global_variables.var2'],\n",
        "         outputs='outpout_f1'),\n",
        "    Node(func=f2,\n",
        "         inputs=['context.catalog.csv_test', 'outpout_f1'],\n",
        "         outputs='outpout_f2')\n",
        "])\n",
        "\n",
        "# ------------ Run Piepline ----------------\n",
        "pipeline_results = pipeline.run(context=context)\n"
      ],
      "metadata": {
        "id": "Zavghh9o7UFr"
      },
      "execution_count": 17,
      "outputs": []
    },
    {
      "cell_type": "code",
      "source": [
        "print(pipeline_results)"
      ],
      "metadata": {
        "colab": {
          "base_uri": "https://localhost:8080/"
        },
        "id": "_miC3u8jUi5b",
        "outputId": "c8a4cc94-4696-40c0-de8d-f2161686b434"
      },
      "execution_count": 16,
      "outputs": [
        {
          "output_type": "stream",
          "name": "stdout",
          "text": [
            "{'outpout_f1': 100, 'outpout_f2':                     0           1           2           3           4  \\\n",
            "Unnamed: 0   0.000000  100.000000  200.000000  300.000000  400.000000   \n",
            "0          -67.135774  108.593824   74.271549  113.166057    2.203076   \n",
            "1          -25.797278  123.009467   49.157157  -39.154692   27.889686   \n",
            "2           30.081634  -64.060859   61.533461  -18.624164  -85.415716   \n",
            "3           31.091464  138.120942   16.174611   64.662701   78.614592   \n",
            "4            1.138311 -102.975769   86.503607    4.251761 -122.422479   \n",
            "\n",
            "                     5           6           7           8           9  \n",
            "Unnamed: 0  500.000000  600.000000  700.000000  800.000000  900.000000  \n",
            "0           -71.295185  -19.681172  -20.197128 -122.130013  -16.481358  \n",
            "1            33.610936 -124.613468   29.350761  -35.577872   16.463038  \n",
            "2          -157.676062 -118.028386   30.539302   20.352886  -99.126650  \n",
            "3           -19.734175  -15.846617  -19.791488   82.308112  125.642325  \n",
            "4          -232.927200  -36.211353   57.530334  -94.945543  -41.941200  }\n"
          ]
        }
      ]
    }
  ]
}